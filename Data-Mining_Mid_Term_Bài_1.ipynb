{
  "nbformat": 4,
  "nbformat_minor": 0,
  "metadata": {
    "colab": {
      "provenance": [],
      "collapsed_sections": []
    },
    "kernelspec": {
      "name": "python3",
      "display_name": "Python 3"
    },
    "language_info": {
      "name": "python"
    }
  },
  "cells": [
    {
      "cell_type": "code",
      "execution_count": null,
      "metadata": {
        "colab": {
          "base_uri": "https://localhost:8080/"
        },
        "id": "ALSjKcjiHfgK",
        "outputId": "67492b51-5fa6-4d85-afb7-6c12e3edaba3"
      },
      "outputs": [
        {
          "output_type": "stream",
          "name": "stdout",
          "text": [
            "[(1, ['A', 'B', 'D', 'E']), (2, ['B', 'C', 'E']), (3, ['A', 'B', 'D', 'E']), (4, ['A', 'B', 'C', 'E']), (5, ['A', 'B', 'C', 'D', 'E']), (6, ['B', 'C', 'D'])]\n"
          ]
        }
      ],
      "source": [
        "import pandas as pd\n",
        "import numpy as np  \n",
        "\n",
        "transaction = []\n",
        "\n",
        "with open(\"mini.csv\") as f:\n",
        "    data = f.read().split('\\n')\n",
        "    line_count = 0\n",
        "    for row in data:\n",
        "      if(len(row) > 0):\n",
        "        line_count += 1\n",
        "        transaction.append((line_count,list(filter(None, row.split(',')))))\n",
        "print(transaction)"
      ]
    },
    {
      "cell_type": "code",
      "source": [
        "def t(l,key=''):\n",
        "  items = {}\n",
        "  count = 0\n",
        "  for i in l:\n",
        "    count += 1\n",
        "    for j in i[1]:\n",
        "      if j not in items:\n",
        "        items[j] = set()\n",
        "      items[j].add(count)\n",
        "  if key is not '':\n",
        "    return dict(sorted(items.items()))[key]\n",
        "  return dict(sorted(items.items()))\n",
        "\n",
        "t(transaction)"
      ],
      "metadata": {
        "colab": {
          "base_uri": "https://localhost:8080/"
        },
        "id": "z2_RV9y3Hi5E",
        "outputId": "91599aac-cac5-4eef-99ee-7e3080ef74e7"
      },
      "execution_count": null,
      "outputs": [
        {
          "output_type": "execute_result",
          "data": {
            "text/plain": [
              "{'A': {1, 3, 4, 5},\n",
              " 'B': {1, 2, 3, 4, 5, 6},\n",
              " 'C': {2, 4, 5, 6},\n",
              " 'D': {1, 3, 5, 6},\n",
              " 'E': {1, 2, 3, 4, 5}}"
            ]
          },
          "metadata": {},
          "execution_count": 2
        }
      ]
    },
    {
      "cell_type": "code",
      "source": [
        "def ECLAT(P, minSup,F):\n",
        "  for i in range(0,len(P)):\n",
        "   F.append((P[i][0],P[i][1]))\n",
        "   Pa = []\n",
        "   for j in range(0,len(P)):\n",
        "    if j > i:\n",
        "      Xab = \"\".join(sorted(set(P[i][0] + P[j][0])))\n",
        "      # print(P[i][1],(P[j][1]))\n",
        "      Tab = set(P[i][1]).intersection((P[j][1]))\n",
        "      if(len(Tab) >= minSup):\n",
        "        Pa.append((Xab,Tab))\n",
        "   if(len(Pa) > 0):\n",
        "      ECLAT(Pa, minSup,F)\n",
        "  return F"
      ],
      "metadata": {
        "id": "hHsZtaW9Hi8I"
      },
      "execution_count": null,
      "outputs": []
    },
    {
      "cell_type": "code",
      "source": [
        "items = []\n",
        "for i,j in transaction:\n",
        "  for k in j:\n",
        "    items.append(k)\n",
        "items = sorted(set(items))\n",
        "\n",
        "P = []\n",
        "F = []\n",
        "minSup = 3\n",
        "for i in t(transaction):\n",
        "  if(len(t(transaction)[i]) >= minSup):\n",
        "    P.append((i,t(transaction)[i]))\n",
        "print(P)"
      ],
      "metadata": {
        "id": "vn5AzccHHi-0",
        "outputId": "0bb677c6-8f05-409b-a878-85cfba05a75a",
        "colab": {
          "base_uri": "https://localhost:8080/"
        }
      },
      "execution_count": null,
      "outputs": [
        {
          "output_type": "stream",
          "name": "stdout",
          "text": [
            "[('A', {1, 3, 4, 5}), ('B', {1, 2, 3, 4, 5, 6}), ('C', {2, 4, 5, 6}), ('D', {1, 3, 5, 6}), ('E', {1, 2, 3, 4, 5})]\n"
          ]
        }
      ]
    },
    {
      "cell_type": "code",
      "source": [
        "ECLAT(P,minSup,F)"
      ],
      "metadata": {
        "id": "Lc8JvJWPHjBM",
        "outputId": "305bf9e0-0aa9-4347-ed67-d8e9d3997f87",
        "colab": {
          "base_uri": "https://localhost:8080/"
        }
      },
      "execution_count": null,
      "outputs": [
        {
          "output_type": "execute_result",
          "data": {
            "text/plain": [
              "[('A', {1, 3, 4, 5}),\n",
              " ('AB', {1, 3, 4, 5}),\n",
              " ('ABD', {1, 3, 5}),\n",
              " ('ABDE', {1, 3, 5}),\n",
              " ('ABE', {1, 3, 4, 5}),\n",
              " ('AD', {1, 3, 5}),\n",
              " ('ADE', {1, 3, 5}),\n",
              " ('AE', {1, 3, 4, 5}),\n",
              " ('B', {1, 2, 3, 4, 5, 6}),\n",
              " ('BC', {2, 4, 5, 6}),\n",
              " ('BCE', {2, 4, 5}),\n",
              " ('BD', {1, 3, 5, 6}),\n",
              " ('BDE', {1, 3, 5}),\n",
              " ('BE', {1, 2, 3, 4, 5}),\n",
              " ('C', {2, 4, 5, 6}),\n",
              " ('CE', {2, 4, 5}),\n",
              " ('D', {1, 3, 5, 6}),\n",
              " ('DE', {1, 3, 5}),\n",
              " ('E', {1, 2, 3, 4, 5})]"
            ]
          },
          "metadata": {},
          "execution_count": 5
        }
      ]
    }
  ]
}