{
  "nbformat": 4,
  "nbformat_minor": 0,
  "metadata": {
    "colab": {
      "provenance": [],
      "collapsed_sections": []
    },
    "kernelspec": {
      "name": "python3",
      "display_name": "Python 3"
    },
    "language_info": {
      "name": "python"
    }
  },
  "cells": [
    {
      "cell_type": "code",
      "execution_count": null,
      "metadata": {
        "colab": {
          "base_uri": "https://localhost:8080/"
        },
        "id": "lw56NoJBIN8O",
        "outputId": "24d24c36-9403-4a13-9b2b-f04bfd9f39c5"
      },
      "outputs": [
        {
          "output_type": "stream",
          "name": "stdout",
          "text": [
            "[(1, ['A', 'B', 'D', 'E']), (2, ['B', 'C', 'E']), (3, ['A', 'B', 'D', 'E']), (4, ['A', 'B', 'C', 'E']), (5, ['A', 'B', 'C', 'D', 'E']), (6, ['B', 'C', 'D'])]\n"
          ]
        }
      ],
      "source": [
        "import pandas as pd\n",
        "import numpy as np  \n",
        "\n",
        "transaction = []\n",
        "\n",
        "with open(\"mini.csv\") as f:\n",
        "    data = f.read().split('\\n')\n",
        "    line_count = 0\n",
        "    for row in data:\n",
        "      if(len(row) > 0):\n",
        "        line_count += 1\n",
        "        transaction.append((line_count,list(filter(None, row.split(',')))))\n",
        "print(transaction)"
      ]
    },
    {
      "cell_type": "code",
      "source": [
        "def t(l,key=''):\n",
        "  items = {}\n",
        "  count = 0\n",
        "  for i in l:\n",
        "    count += 1\n",
        "    for j in i[1]:\n",
        "      if j not in items:\n",
        "        items[j] = set()\n",
        "      items[j].add(count)\n",
        "  if key is not '':\n",
        "    return dict(sorted(items.items()))[key]\n",
        "  return dict(sorted(items.items()))\n",
        "\n",
        "t(transaction)"
      ],
      "metadata": {
        "colab": {
          "base_uri": "https://localhost:8080/"
        },
        "id": "O-45oxf5IPxE",
        "outputId": "2d8b4da7-3faf-4492-c4dd-43c98769ccc6"
      },
      "execution_count": null,
      "outputs": [
        {
          "output_type": "execute_result",
          "data": {
            "text/plain": [
              "{'A': {1, 3, 4, 5},\n",
              " 'B': {1, 2, 3, 4, 5, 6},\n",
              " 'C': {2, 4, 5, 6},\n",
              " 'D': {1, 3, 5, 6},\n",
              " 'E': {1, 2, 3, 4, 5}}"
            ]
          },
          "metadata": {},
          "execution_count": 2
        }
      ]
    },
    {
      "cell_type": "code",
      "source": [
        "def dECLAT(P, minSup,F):\n",
        "  for i in range(0,len(P)):\n",
        "   F.append(P[i])\n",
        "   Pa = []\n",
        "   for j in range(0,len(P)):\n",
        "    if j > i:\n",
        "      Xab = \"\".join(sorted(set(P[i][0] + P[j][0])))\n",
        "      Dab = set(P[i][2]).difference(P[j][2])\n",
        "      Tab = set(P[i][2]).difference((Dab))\n",
        "      if(len(Tab) >= minSup):\n",
        "        Pa.append((Xab,Dab,Tab))\n",
        "   if(len(Pa) > 0):\n",
        "      dECLAT(Pa, minSup,F)\n",
        "  return F"
      ],
      "metadata": {
        "id": "I7H_XnkzIPzb"
      },
      "execution_count": null,
      "outputs": []
    },
    {
      "cell_type": "code",
      "source": [
        "items = []\n",
        "for i,j in transaction:\n",
        "  for k in j:\n",
        "    items.append(k)\n",
        "items = sorted(set(items))\n",
        "\n",
        "F = []\n",
        "minSup = 3\n",
        "P = [((i,{len(t(transaction)[i])},t(transaction)[i])) for i in t(transaction) if(len(t(transaction)[i]) >= minSup)]\n",
        "print(P)"
      ],
      "metadata": {
        "colab": {
          "base_uri": "https://localhost:8080/"
        },
        "id": "FgOPoc_XIP2Z",
        "outputId": "94a7c512-2549-44c3-f57f-9a267ee60d97"
      },
      "execution_count": null,
      "outputs": [
        {
          "output_type": "stream",
          "name": "stdout",
          "text": [
            "[('A', {4}, {1, 3, 4, 5}), ('B', {6}, {1, 2, 3, 4, 5, 6}), ('C', {4}, {2, 4, 5, 6}), ('D', {4}, {1, 3, 5, 6}), ('E', {5}, {1, 2, 3, 4, 5})]\n"
          ]
        }
      ]
    },
    {
      "cell_type": "code",
      "source": [
        "dECLAT(P,minSup,F)"
      ],
      "metadata": {
        "colab": {
          "base_uri": "https://localhost:8080/"
        },
        "id": "r4XOrSLKIYLI",
        "outputId": "c667e4ba-c76b-4081-9d42-7f2184b4af74"
      },
      "execution_count": null,
      "outputs": [
        {
          "output_type": "execute_result",
          "data": {
            "text/plain": [
              "[('A', {4}, {1, 3, 4, 5}),\n",
              " ('AB', set(), {1, 3, 4, 5}),\n",
              " ('ABD', {4}, {1, 3, 5}),\n",
              " ('ABDE', set(), {1, 3, 5}),\n",
              " ('ABE', set(), {1, 3, 4, 5}),\n",
              " ('AD', {4}, {1, 3, 5}),\n",
              " ('ADE', set(), {1, 3, 5}),\n",
              " ('AE', set(), {1, 3, 4, 5}),\n",
              " ('B', {6}, {1, 2, 3, 4, 5, 6}),\n",
              " ('BC', {1, 3}, {2, 4, 5, 6}),\n",
              " ('BCE', {6}, {2, 4, 5}),\n",
              " ('BD', {2, 4}, {1, 3, 5, 6}),\n",
              " ('BDE', {6}, {1, 3, 5}),\n",
              " ('BE', {6}, {1, 2, 3, 4, 5}),\n",
              " ('C', {4}, {2, 4, 5, 6}),\n",
              " ('CE', {6}, {2, 4, 5}),\n",
              " ('D', {4}, {1, 3, 5, 6}),\n",
              " ('DE', {6}, {1, 3, 5}),\n",
              " ('E', {5}, {1, 2, 3, 4, 5})]"
            ]
          },
          "metadata": {},
          "execution_count": 5
        }
      ]
    }
  ]
}